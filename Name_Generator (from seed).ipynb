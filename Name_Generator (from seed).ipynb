{
  "cells": [
    {
      "cell_type": "markdown",
      "metadata": {
        "id": "view-in-github",
        "colab_type": "text"
      },
      "source": [
        "<a href=\"https://colab.research.google.com/github/atreyee-m/all_things_NLP/blob/main/Copy_of_Superhero_Name_Generator_Learner.ipynb\" target=\"_parent\"><img src=\"https://colab.research.google.com/assets/colab-badge.svg\" alt=\"Open In Colab\"/></a>"
      ]
    },
    {
      "cell_type": "markdown",
      "metadata": {
        "id": "21XXWP7Fpt2L"
      },
      "source": [
        "# Name Generator\n",
        "\n",
        "---\n",
        "\n",
        "[Superhero Names Dataset](https://github.com/am1tyadav/superhero)"
      ]
    },
    {
      "cell_type": "markdown",
      "metadata": {
        "id": "H6P0NU5Cpt2R"
      },
      "source": [
        "## Task 2\n",
        "\n",
        "1. Import the data\n",
        "2. Create a tokenizer\n",
        "3. Char to index and Index to char dictionaries"
      ]
    },
    {
      "cell_type": "code",
      "execution_count": 1,
      "metadata": {
        "id": "srULhalZpt2M",
        "colab": {
          "base_uri": "https://localhost:8080/"
        },
        "outputId": "177d1748-ecd3-49c6-b799-5d6190d60591"
      },
      "outputs": [
        {
          "output_type": "stream",
          "name": "stdout",
          "text": [
            "Cloning into 'superhero'...\n",
            "remote: Enumerating objects: 8, done.\u001b[K\n",
            "remote: Counting objects: 100% (8/8), done.\u001b[K\n",
            "remote: Compressing objects: 100% (7/7), done.\u001b[K\n",
            "remote: Total 8 (delta 0), reused 4 (delta 0), pack-reused 0\u001b[K\n",
            "Unpacking objects: 100% (8/8), 47.06 KiB | 4.71 MiB/s, done.\n"
          ]
        }
      ],
      "source": [
        "!git clone https://github.com/am1tyadav/superhero"
      ]
    },
    {
      "cell_type": "code",
      "execution_count": 2,
      "metadata": {
        "id": "uq4CLmsLpt2P",
        "colab": {
          "base_uri": "https://localhost:8080/",
          "height": 36
        },
        "outputId": "72284fca-08d1-4434-ba38-d86fbfbe4fd5"
      },
      "outputs": [
        {
          "output_type": "execute_result",
          "data": {
            "text/plain": [
              "'jumpa\\t\\ndoctor fate\\t\\nstarlight\\t\\nisildur\\t\\nlasher\\t\\nvarvara\\t\\nthe target\\t\\naxel\\t\\nbattra\\t\\nchangeling\\t\\npyrrh'"
            ],
            "application/vnd.google.colaboratory.intrinsic+json": {
              "type": "string"
            }
          },
          "metadata": {},
          "execution_count": 2
        }
      ],
      "source": [
        "with open('superhero/superheroes.txt','r') as f:\n",
        "  data = f.read()\n",
        "data[:100]"
      ]
    },
    {
      "cell_type": "code",
      "execution_count": 3,
      "metadata": {
        "id": "JqhtLuAHpt2R",
        "colab": {
          "base_uri": "https://localhost:8080/"
        },
        "outputId": "f7526cb0-d07d-41c6-8e20-ba2a3db28486"
      },
      "outputs": [
        {
          "output_type": "stream",
          "name": "stdout",
          "text": [
            "2.11.0\n"
          ]
        }
      ],
      "source": [
        "import tensorflow as tf\n",
        "print(tf.__version__)"
      ]
    },
    {
      "cell_type": "code",
      "execution_count": 4,
      "metadata": {
        "id": "95Lo1Yqzpt2T"
      },
      "outputs": [],
      "source": [
        "tokenizer = tf.keras.preprocessing.text.Tokenizer(\n",
        "    filters='!\"#$%&()*+,-./:;<=>?@[\\\\]^_`{|}~',\n",
        "    split='\\n',\n",
        ")"
      ]
    },
    {
      "cell_type": "code",
      "execution_count": 5,
      "metadata": {
        "id": "qYfC4sj2pt2V"
      },
      "outputs": [],
      "source": [
        "tokenizer.fit_on_texts(data)"
      ]
    },
    {
      "cell_type": "code",
      "execution_count": 6,
      "metadata": {
        "id": "EO4-dPM6pt2X",
        "colab": {
          "base_uri": "https://localhost:8080/"
        },
        "outputId": "19a43942-ae14-451c-9b58-a630ce5be7f4"
      },
      "outputs": [
        {
          "output_type": "execute_result",
          "data": {
            "text/plain": [
              "{1: '\\t',\n",
              " 2: 'a',\n",
              " 3: 'e',\n",
              " 4: 'r',\n",
              " 5: 'o',\n",
              " 6: 'n',\n",
              " 7: 'i',\n",
              " 8: ' ',\n",
              " 9: 't',\n",
              " 10: 's',\n",
              " 11: 'l',\n",
              " 12: 'm',\n",
              " 13: 'h',\n",
              " 14: 'd',\n",
              " 15: 'c',\n",
              " 16: 'u',\n",
              " 17: 'g',\n",
              " 18: 'k',\n",
              " 19: 'b',\n",
              " 20: 'p',\n",
              " 21: 'y',\n",
              " 22: 'w',\n",
              " 23: 'f',\n",
              " 24: 'v',\n",
              " 25: 'j',\n",
              " 26: 'z',\n",
              " 27: 'x',\n",
              " 28: 'q'}"
            ]
          },
          "metadata": {},
          "execution_count": 6
        }
      ],
      "source": [
        "char_to_index = tokenizer.word_index\n",
        "index_to_char = dict((v,k) for k,v in char_to_index.items())\n",
        "\n",
        "index_to_char"
      ]
    },
    {
      "cell_type": "markdown",
      "metadata": {
        "id": "SMwtIw_Bpt2Z"
      },
      "source": [
        "## Task 3\n",
        "\n",
        "1. Converting between names and sequences"
      ]
    },
    {
      "cell_type": "code",
      "execution_count": 7,
      "metadata": {
        "id": "N7iQLIXzpt2a",
        "colab": {
          "base_uri": "https://localhost:8080/"
        },
        "outputId": "0ff7f753-8c87-4283-cd7a-e99c0967682c"
      },
      "outputs": [
        {
          "output_type": "execute_result",
          "data": {
            "text/plain": [
              "['jumpa\\t',\n",
              " 'doctor fate\\t',\n",
              " 'starlight\\t',\n",
              " 'isildur\\t',\n",
              " 'lasher\\t',\n",
              " 'varvara\\t',\n",
              " 'the target\\t',\n",
              " 'axel\\t',\n",
              " 'battra\\t',\n",
              " 'changeling\\t']"
            ]
          },
          "metadata": {},
          "execution_count": 7
        }
      ],
      "source": [
        "names = data.splitlines()\n",
        "names[:10]"
      ]
    },
    {
      "cell_type": "code",
      "execution_count": 8,
      "metadata": {
        "id": "n_-TTfqipt2c",
        "colab": {
          "base_uri": "https://localhost:8080/"
        },
        "outputId": "6dd2112c-e0b2-4ffa-a1dc-83281e8e3b1a"
      },
      "outputs": [
        {
          "output_type": "execute_result",
          "data": {
            "text/plain": [
              "[[25], [16], [12], [20], [2], [1]]"
            ]
          },
          "metadata": {},
          "execution_count": 8
        }
      ],
      "source": [
        "tokenizer.texts_to_sequences(names[0])"
      ]
    },
    {
      "cell_type": "code",
      "execution_count": 9,
      "metadata": {
        "id": "P6IsKH1Upt2e"
      },
      "outputs": [],
      "source": [
        "def name_to_seq(name):\n",
        "  return [tokenizer.texts_to_sequences(c)[0][0] for c in name]\n",
        "\n"
      ]
    },
    {
      "cell_type": "code",
      "execution_count": 10,
      "metadata": {
        "id": "TuLUiMP3pt2g",
        "colab": {
          "base_uri": "https://localhost:8080/"
        },
        "outputId": "00a00c50-2ef3-436e-92b9-0afa9a57204d"
      },
      "outputs": [
        {
          "output_type": "execute_result",
          "data": {
            "text/plain": [
              "[25, 16, 12, 20, 2, 1]"
            ]
          },
          "metadata": {},
          "execution_count": 10
        }
      ],
      "source": [
        "name_to_seq(names[0])"
      ]
    },
    {
      "cell_type": "code",
      "execution_count": 11,
      "metadata": {
        "id": "yFUYhimKpt2h"
      },
      "outputs": [],
      "source": [
        "def seq_to_name(seq):\n",
        "  return ''.join([index_to_char[i] for i in seq if i!=0])"
      ]
    },
    {
      "cell_type": "code",
      "execution_count": 12,
      "metadata": {
        "id": "ROhCqmhLpt2k",
        "colab": {
          "base_uri": "https://localhost:8080/",
          "height": 36
        },
        "outputId": "9482fb08-7450-4687-8bd5-f064a8bd1d24"
      },
      "outputs": [
        {
          "output_type": "execute_result",
          "data": {
            "text/plain": [
              "'jumpa\\t'"
            ],
            "application/vnd.google.colaboratory.intrinsic+json": {
              "type": "string"
            }
          },
          "metadata": {},
          "execution_count": 12
        }
      ],
      "source": [
        "seq_to_name(name_to_seq(names[0]))"
      ]
    },
    {
      "cell_type": "markdown",
      "metadata": {
        "id": "uCbAzsNjpt2m"
      },
      "source": [
        "## Task 4\n",
        "\n",
        "1. Creating sequences\n",
        "2. Padding all sequences"
      ]
    },
    {
      "cell_type": "code",
      "execution_count": 13,
      "metadata": {
        "id": "zstNn-0dpt2m"
      },
      "outputs": [],
      "source": [
        "sequences = []\n",
        "\n",
        "for name in names:\n",
        "  seq = name_to_seq(name)\n",
        "  if len(seq) >=2:\n",
        "    sequences += [seq[:i] for i in range(2,len(seq)+1)]\n",
        "    "
      ]
    },
    {
      "cell_type": "code",
      "execution_count": 14,
      "metadata": {
        "id": "BjRTMysvpt2o",
        "colab": {
          "base_uri": "https://localhost:8080/"
        },
        "outputId": "58e6834b-1f41-4aa4-ec68-9d67cea7fd46"
      },
      "outputs": [
        {
          "output_type": "execute_result",
          "data": {
            "text/plain": [
              "[[25, 16],\n",
              " [25, 16, 12],\n",
              " [25, 16, 12, 20],\n",
              " [25, 16, 12, 20, 2],\n",
              " [25, 16, 12, 20, 2, 1],\n",
              " [14, 5],\n",
              " [14, 5, 15],\n",
              " [14, 5, 15, 9],\n",
              " [14, 5, 15, 9, 5],\n",
              " [14, 5, 15, 9, 5, 4]]"
            ]
          },
          "metadata": {},
          "execution_count": 14
        }
      ],
      "source": [
        "sequences[:10]"
      ]
    },
    {
      "cell_type": "code",
      "execution_count": 15,
      "metadata": {
        "id": "SR68pu2tpt2q",
        "colab": {
          "base_uri": "https://localhost:8080/"
        },
        "outputId": "4c27f65d-c506-451e-d7ad-89e1d084d405"
      },
      "outputs": [
        {
          "output_type": "execute_result",
          "data": {
            "text/plain": [
              "33"
            ]
          },
          "metadata": {},
          "execution_count": 15
        }
      ],
      "source": [
        "max_len = max([len(x) for x in sequences])\n",
        "max_len"
      ]
    },
    {
      "cell_type": "code",
      "execution_count": 16,
      "metadata": {
        "id": "h_1BtWO7pt2r",
        "colab": {
          "base_uri": "https://localhost:8080/"
        },
        "outputId": "7da5ae4d-94a9-4afa-cf24-3f31ff89b801"
      },
      "outputs": [
        {
          "output_type": "execute_result",
          "data": {
            "text/plain": [
              "array([ 0,  0,  0,  0,  0,  0,  0,  0,  0,  0,  0,  0,  0,  0,  0,  0,  0,\n",
              "        0,  0,  0,  0,  0,  0,  0,  0,  0,  0,  0,  0,  0,  0, 25, 16],\n",
              "      dtype=int32)"
            ]
          },
          "metadata": {},
          "execution_count": 16
        }
      ],
      "source": [
        "# from keras.preprocessing.sequence import pad_sequences\n",
        "from keras.utils import pad_sequences\n",
        "#tf.keras.preprocessing.\n",
        "padded_sequences = pad_sequences(sequences, padding='pre',maxlen=max_len)\n",
        "                                  # keras.utils.data_utils.pad_sequences \n",
        "# padded_sequences = tf.keras.utils.data_utils.pad_sequences (sequences, padding='pre',maxlen=max_len)\n",
        "# keras.utils.all_utils.Sequence\n",
        "\n",
        "\n",
        "\n",
        "# padded_sequences\n",
        "\n",
        "padded_sequences[0]"
      ]
    },
    {
      "cell_type": "code",
      "execution_count": 17,
      "metadata": {
        "id": "sPlrLRpSpt2t",
        "colab": {
          "base_uri": "https://localhost:8080/"
        },
        "outputId": "42dd9af4-3722-4a7f-e81f-0e816ff1d70a"
      },
      "outputs": [
        {
          "output_type": "execute_result",
          "data": {
            "text/plain": [
              "(88279, 33)"
            ]
          },
          "metadata": {},
          "execution_count": 17
        }
      ],
      "source": [
        "padded_sequences.shape"
      ]
    },
    {
      "cell_type": "markdown",
      "metadata": {
        "id": "q8onGZn2AqkJ"
      },
      "source": [
        "## Task 5: Creating Training and Validation Sets\n",
        "\n",
        "1. Creating training and validation sets"
      ]
    },
    {
      "cell_type": "code",
      "execution_count": 18,
      "metadata": {
        "id": "BE4BIeSnpt2v",
        "colab": {
          "base_uri": "https://localhost:8080/"
        },
        "outputId": "b88ad95c-f1d0-4454-8546-5527bc846003"
      },
      "outputs": [
        {
          "output_type": "stream",
          "name": "stdout",
          "text": [
            "(88279, 32) (88279,)\n"
          ]
        }
      ],
      "source": [
        "x,y = padded_sequences[:,:-1], padded_sequences[:,-1]\n",
        "print(x.shape,y.shape)"
      ]
    },
    {
      "cell_type": "code",
      "execution_count": 19,
      "metadata": {
        "id": "J2D564GfAqkJ",
        "colab": {
          "base_uri": "https://localhost:8080/"
        },
        "outputId": "42539652-db4c-4560-c9c2-cb35ee7c6b97"
      },
      "outputs": [
        {
          "output_type": "stream",
          "name": "stdout",
          "text": [
            "(66209, 32) (66209,)\n",
            "(22070, 32) (22070,)\n"
          ]
        }
      ],
      "source": [
        "from sklearn.model_selection import train_test_split\n",
        "x_train, x_test,y_train,y_test = train_test_split(x,y)\n",
        "print(x_train.shape,y_train.shape)\n",
        "print(x_test.shape,y_test.shape)"
      ]
    },
    {
      "cell_type": "code",
      "execution_count": 20,
      "metadata": {
        "id": "cgqRZtqnpt2x",
        "colab": {
          "base_uri": "https://localhost:8080/"
        },
        "outputId": "f9116e31-371e-4ab2-8ad2-d256c28e56e3"
      },
      "outputs": [
        {
          "output_type": "execute_result",
          "data": {
            "text/plain": [
              "29"
            ]
          },
          "metadata": {},
          "execution_count": 20
        }
      ],
      "source": [
        "num_chars = len(char_to_index.keys()) + 1\n",
        "num_chars"
      ]
    },
    {
      "cell_type": "markdown",
      "metadata": {
        "id": "GzNd0jheAqkK"
      },
      "source": [
        "## Task 6: Creating the Model"
      ]
    },
    {
      "cell_type": "code",
      "execution_count": 24,
      "metadata": {
        "id": "FxBu5d6ZAqkK",
        "colab": {
          "base_uri": "https://localhost:8080/"
        },
        "outputId": "f687eda4-a8dc-4b8c-9d91-cab9102def93"
      },
      "outputs": [
        {
          "output_type": "stream",
          "name": "stdout",
          "text": [
            "Model: \"sequential_1\"\n",
            "_________________________________________________________________\n",
            " Layer (type)                Output Shape              Param #   \n",
            "=================================================================\n",
            " embedding_1 (Embedding)     (None, 32, 8)             232       \n",
            "                                                                 \n",
            " conv1d_1 (Conv1D)           (None, 32, 64)            2624      \n",
            "                                                                 \n",
            " max_pooling1d_1 (MaxPooling  (None, 16, 64)           0         \n",
            " 1D)                                                             \n",
            "                                                                 \n",
            " lstm_1 (LSTM)               (None, 32)                12416     \n",
            "                                                                 \n",
            " dense_1 (Dense)             (None, 29)                957       \n",
            "                                                                 \n",
            "=================================================================\n",
            "Total params: 16,229\n",
            "Trainable params: 16,229\n",
            "Non-trainable params: 0\n",
            "_________________________________________________________________\n"
          ]
        }
      ],
      "source": [
        "from tensorflow.keras.models import Sequential\n",
        "from tensorflow.keras.layers import Embedding, Conv1D, MaxPool1D, LSTM, Bidirectional, Dense\n",
        "\n",
        "model = Sequential(\n",
        "    [\n",
        "      Embedding(num_chars, 8, input_length=max_len-1), \n",
        "      Conv1D(64, 5, strides=1, activation='tanh',padding='causal'),\n",
        "      MaxPool1D(2),\n",
        "      LSTM(32),\n",
        "      Dense(num_chars, activation='softmax')\n",
        "    ])\n",
        "\n",
        "model.compile(loss='sparse_categorical_crossentropy',optimizer='adam',metrics = ['accuracy'])\n",
        "model.summary()"
      ]
    },
    {
      "cell_type": "code",
      "source": [],
      "metadata": {
        "id": "L_wcu4Tzkpcd"
      },
      "execution_count": null,
      "outputs": []
    },
    {
      "cell_type": "markdown",
      "metadata": {
        "id": "lvgh_rrHAqkK"
      },
      "source": [
        "## Task 7: Training the Model"
      ]
    },
    {
      "cell_type": "code",
      "execution_count": 25,
      "metadata": {
        "id": "j0Ssl4qupt22",
        "colab": {
          "base_uri": "https://localhost:8080/"
        },
        "outputId": "ea212445-6b7c-4c50-a4c3-9e2b24123488"
      },
      "outputs": [
        {
          "output_type": "stream",
          "name": "stdout",
          "text": [
            "Epoch 1/50\n",
            "2070/2070 - 26s - loss: 2.7283 - accuracy: 0.1947 - val_loss: 2.5706 - val_accuracy: 0.2253 - 26s/epoch - 12ms/step\n",
            "Epoch 2/50\n",
            "2070/2070 - 12s - loss: 2.5312 - accuracy: 0.2364 - val_loss: 2.4890 - val_accuracy: 0.2495 - 12s/epoch - 6ms/step\n",
            "Epoch 3/50\n",
            "2070/2070 - 12s - loss: 2.4617 - accuracy: 0.2557 - val_loss: 2.4442 - val_accuracy: 0.2633 - 12s/epoch - 6ms/step\n",
            "Epoch 4/50\n",
            "2070/2070 - 15s - loss: 2.4170 - accuracy: 0.2667 - val_loss: 2.4051 - val_accuracy: 0.2705 - 15s/epoch - 7ms/step\n",
            "Epoch 5/50\n",
            "2070/2070 - 14s - loss: 2.3802 - accuracy: 0.2780 - val_loss: 2.3850 - val_accuracy: 0.2720 - 14s/epoch - 7ms/step\n",
            "Epoch 6/50\n",
            "2070/2070 - 19s - loss: 2.3511 - accuracy: 0.2857 - val_loss: 2.3644 - val_accuracy: 0.2803 - 19s/epoch - 9ms/step\n",
            "Epoch 7/50\n",
            "2070/2070 - 20s - loss: 2.3267 - accuracy: 0.2917 - val_loss: 2.3416 - val_accuracy: 0.2884 - 20s/epoch - 10ms/step\n",
            "Epoch 8/50\n",
            "2070/2070 - 19s - loss: 2.3029 - accuracy: 0.2984 - val_loss: 2.3268 - val_accuracy: 0.2918 - 19s/epoch - 9ms/step\n",
            "Epoch 9/50\n",
            "2070/2070 - 13s - loss: 2.2821 - accuracy: 0.3056 - val_loss: 2.3182 - val_accuracy: 0.2970 - 13s/epoch - 6ms/step\n",
            "Epoch 10/50\n",
            "2070/2070 - 12s - loss: 2.2620 - accuracy: 0.3118 - val_loss: 2.2952 - val_accuracy: 0.3071 - 12s/epoch - 6ms/step\n",
            "Epoch 11/50\n",
            "2070/2070 - 12s - loss: 2.2421 - accuracy: 0.3175 - val_loss: 2.2815 - val_accuracy: 0.3116 - 12s/epoch - 6ms/step\n",
            "Epoch 12/50\n",
            "2070/2070 - 11s - loss: 2.2252 - accuracy: 0.3235 - val_loss: 2.2749 - val_accuracy: 0.3141 - 11s/epoch - 6ms/step\n",
            "Epoch 13/50\n",
            "2070/2070 - 12s - loss: 2.2081 - accuracy: 0.3273 - val_loss: 2.2694 - val_accuracy: 0.3193 - 12s/epoch - 6ms/step\n",
            "Epoch 14/50\n",
            "2070/2070 - 13s - loss: 2.1929 - accuracy: 0.3329 - val_loss: 2.2529 - val_accuracy: 0.3183 - 13s/epoch - 6ms/step\n",
            "Epoch 15/50\n",
            "2070/2070 - 15s - loss: 2.1781 - accuracy: 0.3370 - val_loss: 2.2516 - val_accuracy: 0.3185 - 15s/epoch - 7ms/step\n",
            "Epoch 16/50\n",
            "2070/2070 - 12s - loss: 2.1653 - accuracy: 0.3415 - val_loss: 2.2391 - val_accuracy: 0.3262 - 12s/epoch - 6ms/step\n",
            "Epoch 17/50\n",
            "2070/2070 - 11s - loss: 2.1533 - accuracy: 0.3457 - val_loss: 2.2329 - val_accuracy: 0.3319 - 11s/epoch - 6ms/step\n",
            "Epoch 18/50\n",
            "2070/2070 - 11s - loss: 2.1406 - accuracy: 0.3514 - val_loss: 2.2290 - val_accuracy: 0.3322 - 11s/epoch - 5ms/step\n",
            "Epoch 19/50\n",
            "2070/2070 - 12s - loss: 2.1294 - accuracy: 0.3548 - val_loss: 2.2240 - val_accuracy: 0.3348 - 12s/epoch - 6ms/step\n",
            "Epoch 20/50\n",
            "2070/2070 - 12s - loss: 2.1193 - accuracy: 0.3594 - val_loss: 2.2263 - val_accuracy: 0.3347 - 12s/epoch - 6ms/step\n",
            "Epoch 21/50\n",
            "2070/2070 - 17s - loss: 2.1090 - accuracy: 0.3624 - val_loss: 2.2165 - val_accuracy: 0.3388 - 17s/epoch - 8ms/step\n",
            "Epoch 22/50\n",
            "2070/2070 - 14s - loss: 2.1009 - accuracy: 0.3658 - val_loss: 2.2176 - val_accuracy: 0.3392 - 14s/epoch - 7ms/step\n",
            "Epoch 23/50\n",
            "2070/2070 - 14s - loss: 2.0927 - accuracy: 0.3671 - val_loss: 2.2108 - val_accuracy: 0.3440 - 14s/epoch - 7ms/step\n",
            "Epoch 24/50\n",
            "2070/2070 - 12s - loss: 2.0842 - accuracy: 0.3711 - val_loss: 2.2100 - val_accuracy: 0.3432 - 12s/epoch - 6ms/step\n",
            "Epoch 25/50\n",
            "2070/2070 - 13s - loss: 2.0775 - accuracy: 0.3730 - val_loss: 2.2088 - val_accuracy: 0.3437 - 13s/epoch - 6ms/step\n",
            "Epoch 26/50\n",
            "2070/2070 - 13s - loss: 2.0693 - accuracy: 0.3750 - val_loss: 2.2081 - val_accuracy: 0.3474 - 13s/epoch - 6ms/step\n",
            "Epoch 27/50\n",
            "2070/2070 - 12s - loss: 2.0624 - accuracy: 0.3785 - val_loss: 2.2054 - val_accuracy: 0.3473 - 12s/epoch - 6ms/step\n",
            "Epoch 28/50\n",
            "2070/2070 - 12s - loss: 2.0558 - accuracy: 0.3794 - val_loss: 2.2082 - val_accuracy: 0.3460 - 12s/epoch - 6ms/step\n",
            "Epoch 29/50\n",
            "2070/2070 - 13s - loss: 2.0494 - accuracy: 0.3817 - val_loss: 2.2038 - val_accuracy: 0.3487 - 13s/epoch - 6ms/step\n",
            "Epoch 30/50\n",
            "2070/2070 - 12s - loss: 2.0425 - accuracy: 0.3837 - val_loss: 2.1979 - val_accuracy: 0.3499 - 12s/epoch - 6ms/step\n",
            "Epoch 31/50\n",
            "2070/2070 - 12s - loss: 2.0366 - accuracy: 0.3855 - val_loss: 2.2016 - val_accuracy: 0.3514 - 12s/epoch - 6ms/step\n",
            "Epoch 32/50\n",
            "2070/2070 - 12s - loss: 2.0314 - accuracy: 0.3889 - val_loss: 2.1960 - val_accuracy: 0.3517 - 12s/epoch - 6ms/step\n",
            "Epoch 33/50\n",
            "2070/2070 - 12s - loss: 2.0245 - accuracy: 0.3901 - val_loss: 2.1976 - val_accuracy: 0.3516 - 12s/epoch - 6ms/step\n",
            "Epoch 34/50\n",
            "2070/2070 - 13s - loss: 2.0184 - accuracy: 0.3909 - val_loss: 2.1975 - val_accuracy: 0.3537 - 13s/epoch - 6ms/step\n",
            "Epoch 35/50\n",
            "2070/2070 - 12s - loss: 2.0139 - accuracy: 0.3943 - val_loss: 2.1938 - val_accuracy: 0.3539 - 12s/epoch - 6ms/step\n",
            "Epoch 36/50\n",
            "2070/2070 - 12s - loss: 2.0086 - accuracy: 0.3954 - val_loss: 2.2011 - val_accuracy: 0.3536 - 12s/epoch - 6ms/step\n",
            "Epoch 37/50\n",
            "2070/2070 - 12s - loss: 2.0034 - accuracy: 0.3971 - val_loss: 2.1956 - val_accuracy: 0.3556 - 12s/epoch - 6ms/step\n",
            "Epoch 38/50\n",
            "2070/2070 - 12s - loss: 1.9989 - accuracy: 0.3983 - val_loss: 2.1940 - val_accuracy: 0.3540 - 12s/epoch - 6ms/step\n",
            "Epoch 39/50\n",
            "2070/2070 - 12s - loss: 1.9939 - accuracy: 0.3990 - val_loss: 2.1976 - val_accuracy: 0.3549 - 12s/epoch - 6ms/step\n",
            "Epoch 40/50\n",
            "2070/2070 - 12s - loss: 1.9901 - accuracy: 0.4010 - val_loss: 2.2021 - val_accuracy: 0.3562 - 12s/epoch - 6ms/step\n",
            "Epoch 41/50\n",
            "2070/2070 - 12s - loss: 1.9855 - accuracy: 0.4032 - val_loss: 2.1972 - val_accuracy: 0.3559 - 12s/epoch - 6ms/step\n",
            "Epoch 42/50\n",
            "2070/2070 - 12s - loss: 1.9810 - accuracy: 0.4038 - val_loss: 2.2003 - val_accuracy: 0.3589 - 12s/epoch - 6ms/step\n",
            "Epoch 43/50\n",
            "2070/2070 - 12s - loss: 1.9773 - accuracy: 0.4055 - val_loss: 2.1986 - val_accuracy: 0.3576 - 12s/epoch - 6ms/step\n",
            "Epoch 44/50\n",
            "2070/2070 - 12s - loss: 1.9735 - accuracy: 0.4067 - val_loss: 2.1990 - val_accuracy: 0.3562 - 12s/epoch - 6ms/step\n",
            "Epoch 45/50\n",
            "2070/2070 - 12s - loss: 1.9688 - accuracy: 0.4072 - val_loss: 2.1990 - val_accuracy: 0.3579 - 12s/epoch - 6ms/step\n"
          ]
        }
      ],
      "source": [
        "h = model.fit(\n",
        "    x_train,\n",
        "    y_train,\n",
        "    validation_data=(x_test,y_test), \n",
        "    epochs=50,\n",
        "    verbose=2, \n",
        "    callbacks=[tf.keras.callbacks.EarlyStopping(monitor='val_accuracy',patience=3)])"
      ]
    },
    {
      "cell_type": "code",
      "source": [
        "from matplotlib import pyplot as plt\n",
        "epochs_ran=len(h.history['loss'])\n",
        "\n",
        "plt.plot(range(0,epochs_ran),h.history['val_accuracy'], label='Validation')\n",
        "plt.plot(range(0,epochs_ran),h.history['accuracy'], label='Training')\n",
        "plt.legend()\n",
        "plt.show()"
      ],
      "metadata": {
        "colab": {
          "base_uri": "https://localhost:8080/",
          "height": 265
        },
        "id": "2JsA-VGbnF4i",
        "outputId": "db49e73f-5927-434f-b9aa-c18388668e95"
      },
      "execution_count": 27,
      "outputs": [
        {
          "output_type": "display_data",
          "data": {
            "text/plain": [
              "<Figure size 432x288 with 1 Axes>"
            ],
            "image/png": "[encoded data removed]"
          },
          "metadata": {
            "needs_background": "light"
          }
        }
      ]
    },
    {
      "cell_type": "markdown",
      "metadata": {
        "id": "349DbPiPAqkK"
      },
      "source": [
        "## Task 8: Generate Names!"
      ]
    },
    {
      "cell_type": "code",
      "execution_count": 29,
      "metadata": {
        "id": "9f50aTRcpt24"
      },
      "outputs": [],
      "source": [
        "def generate_names(seed):\n",
        "  for i in range(0,40):\n",
        "    seq = name_to_seq(seed)\n",
        "    padded = pad_sequences([seq],padding='pre',maxlen=max_len-1,truncating='pre')\n",
        "    pred = model.predict(padded)[0]\n",
        "    pred_char = index_to_char[tf.argmax(pred).numpy()]\n",
        "    seed += pred_char\n",
        "\n",
        "    if pred_char == '\\t':\n",
        "      break\n",
        "  print(seed)"
      ]
    },
    {
      "cell_type": "code",
      "execution_count": 36,
      "metadata": {
        "id": "faQ0FInlpt26",
        "colab": {
          "base_uri": "https://localhost:8080/"
        },
        "outputId": "90054a5d-cca7-4756-ffb2-699001f2eebc"
      },
      "outputs": [
        {
          "output_type": "stream",
          "name": "stdout",
          "text": [
            "1/1 [==============================] - 0s 23ms/step\n",
            "1/1 [==============================] - 0s 22ms/step\n",
            "1/1 [==============================] - 0s 23ms/step\n",
            "1/1 [==============================] - 0s 24ms/step\n",
            "1/1 [==============================] - 0s 29ms/step\n",
            "fentor\t\n"
          ]
        }
      ],
      "source": [
        "generate_names('fe')"
      ]
    }
  ],
  "metadata": {
    "accelerator": "GPU",
    "colab": {
      "provenance": [],
      "toc_visible": true,
      "include_colab_link": true
    },
    "kernelspec": {
      "display_name": "Python 3",
      "language": "python",
      "name": "python3"
    },
    "language_info": {
      "codemirror_mode": {
        "name": "ipython",
        "version": 3
      },
      "file_extension": ".py",
      "mimetype": "text/x-python",
      "name": "python",
      "nbconvert_exporter": "python",
      "pygments_lexer": "ipython3",
      "version": "3.8.3"
    },
    "gpuClass": "standard"
  },
  "nbformat": 4,
  "nbformat_minor": 0
}
